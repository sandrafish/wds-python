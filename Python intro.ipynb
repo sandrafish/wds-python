{
 "cells": [
  {
   "cell_type": "markdown",
   "metadata": {},
   "source": [
    "## Intro to Python\n",
    "#### Why would you use python?\n",
    "* Automate and document routine work\n",
    "* Analyze data in a replicable, documented way\n",
    "* Build cool web stuff\n",
    "* It's fun!\n",
    "\n",
    "Open Terminal on a Mac (though i use iTerm) or CMDR or other bash shell on Windows.\n",
    "\n",
    "Type: python (you'll get a python command line, >>>)\n",
    "\n",
    "Type: 2+3\n",
    "\n",
    "Type: import this\n",
    "\n",
    "Type: CTRL+d\n",
    "\n",
    "OK, you could do stuff in there all day.\n",
    "\n",
    "Or you could put code in a text file with the .py extension and run it from the command line (python filename.py).\n",
    "\n",
    "But we're going to use Jupyter notebook.\n",
    "\n",
    "### Why use Jupyter notebook?\n",
    "\n",
    "* Test your code line by line\n",
    "* Rewrite it immediately when you err (and you will err)\n",
    "* You can document/explain more extensively using markdown (what you're reading here)\n",
    "* Reuse, reuse, reuse\n",
    "\n",
    "So let's try those two things again!\n"
   ]
  },
  {
   "cell_type": "code",
   "execution_count": 1,
   "metadata": {},
   "outputs": [
    {
     "data": {
      "text/plain": [
       "5"
      ]
     },
     "execution_count": 1,
     "metadata": {},
     "output_type": "execute_result"
    }
   ],
   "source": [
    "2+3"
   ]
  },
  {
   "cell_type": "code",
   "execution_count": 2,
   "metadata": {},
   "outputs": [
    {
     "name": "stdout",
     "output_type": "stream",
     "text": [
      "The Zen of Python, by Tim Peters\n",
      "\n",
      "Beautiful is better than ugly.\n",
      "Explicit is better than implicit.\n",
      "Simple is better than complex.\n",
      "Complex is better than complicated.\n",
      "Flat is better than nested.\n",
      "Sparse is better than dense.\n",
      "Readability counts.\n",
      "Special cases aren't special enough to break the rules.\n",
      "Although practicality beats purity.\n",
      "Errors should never pass silently.\n",
      "Unless explicitly silenced.\n",
      "In the face of ambiguity, refuse the temptation to guess.\n",
      "There should be one-- and preferably only one --obvious way to do it.\n",
      "Although that way may not be obvious at first unless you're Dutch.\n",
      "Now is better than never.\n",
      "Although never is often better than *right* now.\n",
      "If the implementation is hard to explain, it's a bad idea.\n",
      "If the implementation is easy to explain, it may be a good idea.\n",
      "Namespaces are one honking great idea -- let's do more of those!\n"
     ]
    }
   ],
   "source": [
    "import this"
   ]
  },
  {
   "cell_type": "code",
   "execution_count": 3,
   "metadata": {},
   "outputs": [
    {
     "ename": "SyntaxError",
     "evalue": "Missing parentheses in call to 'print'. Did you mean print(something)? (<ipython-input-3-f2fc969f94c2>, line 1)",
     "output_type": "error",
     "traceback": [
      "\u001b[0;36m  File \u001b[0;32m\"<ipython-input-3-f2fc969f94c2>\"\u001b[0;36m, line \u001b[0;32m1\u001b[0m\n\u001b[0;31m    print something\u001b[0m\n\u001b[0m                  ^\u001b[0m\n\u001b[0;31mSyntaxError\u001b[0m\u001b[0;31m:\u001b[0m Missing parentheses in call to 'print'. Did you mean print(something)?\n"
     ]
    }
   ],
   "source": [
    "print something"
   ]
  },
  {
   "cell_type": "markdown",
   "metadata": {},
   "source": [
    "### To err is expected.\n",
    "Oops! That didn't work.\n",
    "\n",
    "But this is the first of many errors you (and especially i!) will make in Python. In part, because we are typing (check the number of times i type pring instead of print). Also, because it's complicated.\n",
    "\n",
    "So a few quick error tips:\n",
    "\n",
    "* Proofread your code like a copy editor. Errors often result from misspellings, misplaced punctuation, etc.\n",
    "* Google the error message + Python\n",
    "* Use stackoverflow.com to search the error message or ask questions.\n",
    "* So let's try using some quotes and parentheses around that word instead."
   ]
  },
  {
   "cell_type": "code",
   "execution_count": 5,
   "metadata": {},
   "outputs": [
    {
     "name": "stdout",
     "output_type": "stream",
     "text": [
      "something\n"
     ]
    }
   ],
   "source": [
    "print('something')"
   ]
  },
  {
   "cell_type": "code",
   "execution_count": 6,
   "metadata": {},
   "outputs": [
    {
     "name": "stdout",
     "output_type": "stream",
     "text": [
      "5\n"
     ]
    }
   ],
   "source": [
    "print(2+3)"
   ]
  },
  {
   "cell_type": "markdown",
   "metadata": {},
   "source": [
    "Data types are important in Python. Strings - generally text or things you won't do math on (like zip codes) - get quote marks around them. Numerals don't get quotes, and come in two types, floating-point (decimal) and integers. Then there's Boolean, a true/false type.\n",
    "\n",
    "But rarely will we simply type in some numbers to add, subtract, multiply and/or divide. Calculators work for that.\n",
    "\n",
    "Programming in Python (or any language, really) works by creating building blocks to achieve our goals.\n",
    "\n",
    "The first of these blocks is a variable. And it's pretty straightforward: variable_name = 'some type of info'."
   ]
  },
  {
   "cell_type": "code",
   "execution_count": 7,
   "metadata": {},
   "outputs": [],
   "source": [
    "my_string = \"i'm learning Python!\""
   ]
  },
  {
   "cell_type": "code",
   "execution_count": 8,
   "metadata": {},
   "outputs": [
    {
     "ename": "SyntaxError",
     "evalue": "invalid syntax (<ipython-input-8-5f4c8a2b270b>, line 1)",
     "output_type": "error",
     "traceback": [
      "\u001b[0;36m  File \u001b[0;32m\"<ipython-input-8-5f4c8a2b270b>\"\u001b[0;36m, line \u001b[0;32m1\u001b[0m\n\u001b[0;31m    string2 = 'i'll use it for data analysis'\u001b[0m\n\u001b[0m                  ^\u001b[0m\n\u001b[0;31mSyntaxError\u001b[0m\u001b[0;31m:\u001b[0m invalid syntax\n"
     ]
    }
   ],
   "source": [
    "string2 = 'i'll use it for data analysis'"
   ]
  },
  {
   "cell_type": "code",
   "execution_count": 9,
   "metadata": {},
   "outputs": [],
   "source": [
    "string2 = 'i\\'ll use it for data analysis'"
   ]
  },
  {
   "cell_type": "code",
   "execution_count": 10,
   "metadata": {},
   "outputs": [
    {
     "data": {
      "text/plain": [
       "\"i'm learning Python!i'll use it for data analysis\""
      ]
     },
     "execution_count": 10,
     "metadata": {},
     "output_type": "execute_result"
    }
   ],
   "source": [
    "my_string+string2"
   ]
  },
  {
   "cell_type": "markdown",
   "metadata": {},
   "source": [
    "Note that it doesn't really matter whether you use single or double quotes. If you have questions about this or other Python style, consult [PEP 8.](https://www.python.org/dev/peps/pep-0008/) It's the AP Style Guide (that's a journo thing) for Python.\n",
    "\n",
    "Here's how you would create variables for integers, floats and Booleans."
   ]
  },
  {
   "cell_type": "code",
   "execution_count": 11,
   "metadata": {},
   "outputs": [],
   "source": [
    "integer = 5\n",
    "floaty = 4.5\n",
    "my_bool = True"
   ]
  },
  {
   "cell_type": "markdown",
   "metadata": {},
   "source": [
    "Play around with these, try combining them to see what happens. Try multiplying them or dividing them."
   ]
  },
  {
   "cell_type": "code",
   "execution_count": 12,
   "metadata": {},
   "outputs": [
    {
     "ename": "TypeError",
     "evalue": "unsupported operand type(s) for /: 'int' and 'str'",
     "output_type": "error",
     "traceback": [
      "\u001b[0;31m---------------------------------------------------------------------------\u001b[0m",
      "\u001b[0;31mTypeError\u001b[0m                                 Traceback (most recent call last)",
      "\u001b[0;32m<ipython-input-12-5bcc80de55c1>\u001b[0m in \u001b[0;36m<module>\u001b[0;34m\u001b[0m\n\u001b[0;32m----> 1\u001b[0;31m \u001b[0minteger\u001b[0m\u001b[0;34m/\u001b[0m\u001b[0mstring2\u001b[0m\u001b[0;34m\u001b[0m\u001b[0;34m\u001b[0m\u001b[0m\n\u001b[0m",
      "\u001b[0;31mTypeError\u001b[0m: unsupported operand type(s) for /: 'int' and 'str'"
     ]
    }
   ],
   "source": [
    "integer/string2"
   ]
  },
  {
   "cell_type": "code",
   "execution_count": 13,
   "metadata": {},
   "outputs": [
    {
     "data": {
      "text/plain": [
       "\"i'll use it for data analysisi'll use it for data analysisi'll use it for data analysisi'll use it for data analysisi'll use it for data analysis\""
      ]
     },
     "execution_count": 13,
     "metadata": {},
     "output_type": "execute_result"
    }
   ],
   "source": [
    "string2*5"
   ]
  },
  {
   "cell_type": "code",
   "execution_count": 14,
   "metadata": {},
   "outputs": [
    {
     "data": {
      "text/plain": [
       "1.1111111111111112"
      ]
     },
     "execution_count": 14,
     "metadata": {},
     "output_type": "execute_result"
    }
   ],
   "source": [
    "integer/floaty"
   ]
  },
  {
   "cell_type": "code",
   "execution_count": 15,
   "metadata": {},
   "outputs": [
    {
     "data": {
      "text/plain": [
       "0.9"
      ]
     },
     "execution_count": 15,
     "metadata": {},
     "output_type": "execute_result"
    }
   ],
   "source": [
    "floaty/integer"
   ]
  },
  {
   "cell_type": "code",
   "execution_count": 16,
   "metadata": {},
   "outputs": [
    {
     "data": {
      "text/plain": [
       "True"
      ]
     },
     "execution_count": 16,
     "metadata": {},
     "output_type": "execute_result"
    }
   ],
   "source": [
    "my_bool"
   ]
  },
  {
   "cell_type": "markdown",
   "metadata": {},
   "source": [
    "Note that some words are special or reserved in Python. We can't name our integer varial int or our float simply float.\n",
    "\n",
    "The same goes with conditional words: and, or, in, if, is, not, for...\n",
    "\n",
    "These can be used as building blocks to create conditions. Consider:"
   ]
  },
  {
   "cell_type": "code",
   "execution_count": 18,
   "metadata": {},
   "outputs": [
    {
     "name": "stdout",
     "output_type": "stream",
     "text": [
      "False\n"
     ]
    }
   ],
   "source": [
    "if floaty == integer:\n",
    "    print(True)\n",
    "else:\n",
    "    print(False)"
   ]
  },
  {
   "cell_type": "markdown",
   "metadata": {},
   "source": [
    "Note the double equal ==. That's the Python equivalent for a single on your calculator. And != is the equivalent of not equal.\n",
    "\n",
    "And note the indentation - it's four spaces, and it's important for Python. Some text editors (Jupyter notebook or Sublime Text, for instance) will automatically indent properly. But not all tabs are four spaces. So use caution!\n",
    "\n",
    "Also note the capitalization of True and False. And the fact that those reserved/special words show up as green."
   ]
  },
  {
   "cell_type": "markdown",
   "metadata": {},
   "source": [
    "### Lists & dictionaries\n",
    "You might want to create a variable that includes several items, like a list of numbers. For that, Python uses lists: surrounded by brackets and separated by commas. You might think of it as a single row in Excel."
   ]
  },
  {
   "cell_type": "code",
   "execution_count": 23,
   "metadata": {},
   "outputs": [
    {
     "name": "stdout",
     "output_type": "stream",
     "text": [
      "['name1', 'name2', 'name3']\n",
      "name2\n"
     ]
    }
   ],
   "source": [
    "my_list = ['name1', 'name2', 'name3']\n",
    "print(my_list)\n",
    "print(my_list[1])"
   ]
  },
  {
   "cell_type": "markdown",
   "metadata": {},
   "source": [
    "Notice what appears when we ask for list item No. 1 to be printed - it gets the second item. It's important to note and remember that Python counts things starting a zero. \n",
    "\n",
    "You may also add or delete items from a list. And determine the length of the list."
   ]
  },
  {
   "cell_type": "code",
   "execution_count": 25,
   "metadata": {},
   "outputs": [
    {
     "name": "stdout",
     "output_type": "stream",
     "text": [
      "3\n"
     ]
    }
   ],
   "source": [
    "print(len(my_list))"
   ]
  },
  {
   "cell_type": "code",
   "execution_count": 26,
   "metadata": {},
   "outputs": [
    {
     "name": "stdout",
     "output_type": "stream",
     "text": [
      "4\n"
     ]
    }
   ],
   "source": [
    "my_list.append('name14')\n",
    "print(my_list)\n",
    "print(len(my_list))"
   ]
  },
  {
   "cell_type": "markdown",
   "metadata": {},
   "source": [
    "Note that when we appended something, we used parentheses.\n",
    "\n",
    "Now let's make a dictionary. This creates sets of related values, with a key followed by a value for that key. For dictionaries, we use curly braces."
   ]
  },
  {
   "cell_type": "code",
   "execution_count": 27,
   "metadata": {},
   "outputs": [
    {
     "data": {
      "text/plain": [
       "{'first_name': 'Mabel', 'last_name': 'Smith', 'middle': 'Q', 'city': 'Orlando'}"
      ]
     },
     "execution_count": 27,
     "metadata": {},
     "output_type": "execute_result"
    }
   ],
   "source": [
    "person_data = {'first_name': 'Mabel', 'last_name': 'Smith', 'middle': 'Q', 'city': 'Orlando'}\n",
    "person_data"
   ]
  },
  {
   "cell_type": "code",
   "execution_count": 29,
   "metadata": {},
   "outputs": [
    {
     "data": {
      "text/plain": [
       "{'first_name': 'Mabel',\n",
       " 'last_name': 'Smith',\n",
       " 'middle': 'Q',\n",
       " 'city': 'Orlando',\n",
       " 'state': 'Florida'}"
      ]
     },
     "execution_count": 29,
     "metadata": {},
     "output_type": "execute_result"
    }
   ],
   "source": [
    "person_data['state'] =('Florida')\n",
    "person_data"
   ]
  },
  {
   "cell_type": "markdown",
   "metadata": {},
   "source": [
    "One other basic concept that typically combines many of these elements is a function. You might use a series of functions (building blocks) to achieve your programming goals. Here's an example of one "
   ]
  },
  {
   "cell_type": "code",
   "execution_count": 34,
   "metadata": {},
   "outputs": [
    {
     "data": {
      "text/plain": [
       "9.5"
      ]
     },
     "execution_count": 34,
     "metadata": {},
     "output_type": "execute_result"
    }
   ],
   "source": [
    "def sum_two_numbers(a, b):\n",
    "    return a+b\n",
    "\n",
    "sum_two_numbers(integer, floaty)"
   ]
  },
  {
   "cell_type": "markdown",
   "metadata": {},
   "source": [
    "So, this is just a taste of Python. It's enough to give you a sense of the language and how Jupyter notebooks are used.\n",
    "\n",
    "Check out some of the resources on the github repo readme page for more ideas."
   ]
  }
 ],
 "metadata": {
  "kernelspec": {
   "display_name": "Python 3",
   "language": "python",
   "name": "python3"
  },
  "language_info": {
   "codemirror_mode": {
    "name": "ipython",
    "version": 3
   },
   "file_extension": ".py",
   "mimetype": "text/x-python",
   "name": "python",
   "nbconvert_exporter": "python",
   "pygments_lexer": "ipython3",
   "version": "3.7.2"
  }
 },
 "nbformat": 4,
 "nbformat_minor": 2
}
